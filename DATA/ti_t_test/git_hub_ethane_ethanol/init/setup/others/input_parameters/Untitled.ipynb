{
 "cells": [
  {
   "cell_type": "code",
   "execution_count": 1,
   "id": "7b46b82b-a756-4cd1-9265-593fdea8dd42",
   "metadata": {},
   "outputs": [],
   "source": [
    "from rdkit import Chem\n",
    "from rdkit.Chem import AllChem, rdFMCS\n"
   ]
  },
  {
   "cell_type": "code",
   "execution_count": 2,
   "id": "bae955e7-4da9-4c59-8f16-e66b083c4d95",
   "metadata": {},
   "outputs": [],
   "source": [
    "# Load ethane and ethanol from PDB files\n",
    "ethane = Chem.MolFromPDBFile(\"ethane.pdb\")\n",
    "ethanol = Chem.MolFromPDBFile(\"ethanol.pdb\")"
   ]
  },
  {
   "cell_type": "code",
   "execution_count": 3,
   "id": "644e2b95-87e9-411e-a9e2-adb01a45e94e",
   "metadata": {},
   "outputs": [
    {
     "name": "stderr",
     "output_type": "stream",
     "text": [
      "[11:08:41] Molecule does not have explicit Hs. Consider calling AddHs()\n",
      "[11:08:41] Molecule does not have explicit Hs. Consider calling AddHs()\n"
     ]
    },
    {
     "data": {
      "text/plain": [
       "0"
      ]
     },
     "execution_count": 3,
     "metadata": {},
     "output_type": "execute_result"
    }
   ],
   "source": [
    "# Add hydrogens and generate 3D conformations if needed\n",
    "AllChem.EmbedMolecule(ethane)\n",
    "AllChem.EmbedMolecule(ethanol)"
   ]
  },
  {
   "cell_type": "code",
   "execution_count": 4,
   "id": "9d859377-c922-4701-b1bb-f81524c55218",
   "metadata": {},
   "outputs": [],
   "source": [
    "# Find the Maximum Common Substructure (MCS)\n",
    "mcs = rdFMCS.FindMCS([ethane, ethanol])\n",
    "mcs_smarts = mcs.smartsString\n",
    "mcs_mol = Chem.MolFromSmarts(mcs_smarts)"
   ]
  },
  {
   "cell_type": "code",
   "execution_count": null,
   "id": "501dd1af-5d43-4799-ace5-56c9218a1c1c",
   "metadata": {},
   "outputs": [],
   "source": []
  }
 ],
 "metadata": {
  "kernelspec": {
   "display_name": "Python 3 (ipykernel)",
   "language": "python",
   "name": "python3"
  },
  "language_info": {
   "codemirror_mode": {
    "name": "ipython",
    "version": 3
   },
   "file_extension": ".py",
   "mimetype": "text/x-python",
   "name": "python",
   "nbconvert_exporter": "python",
   "pygments_lexer": "ipython3",
   "version": "3.11.5"
  }
 },
 "nbformat": 4,
 "nbformat_minor": 5
}
